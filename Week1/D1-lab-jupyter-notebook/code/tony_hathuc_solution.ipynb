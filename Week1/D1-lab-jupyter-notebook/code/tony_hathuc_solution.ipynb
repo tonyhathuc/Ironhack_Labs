{
 "cells": [
  {
   "cell_type": "markdown",
   "metadata": {},
   "source": [
    "\n",
    "# Purpose  | Jupyter Notebook\n",
    "\n",
    "The purpose of this notebook is to learn how to write beautiful markdown on Jupyter Notebook.\n",
    "    \n",
    "<a id =purpose></a>"
   ]
  },
  {
   "cell_type": "markdown",
   "metadata": {},
   "source": [
    "## TOC:\n",
    "[Purpose](#purpose) <br>\n",
    "[Hello, I am Magda!](#magda) <br>\n",
    "[This is how I imagine my holiday](#holiday) <br>\n",
    "[This was me with my boyfriend in Prague :)](#boyfriend) <br>\n",
    "[TOP 3 things in Prague](#prague) <br>"
   ]
  },
  {
   "cell_type": "markdown",
   "metadata": {},
   "source": [
    "## Hello, I am Magda!\n",
    "\n",
    "<b>And I would really like to visit Japan!</b>\n",
    "\n",
    "<b>That's me.</b>\n",
    "\n",
    "\n",
    "\n",
    "![Hi!](Magda.JPG \"Title\")\n",
    "\n",
    "\n",
    "<a id =magda></a> "
   ]
  },
  {
   "cell_type": "code",
   "execution_count": 1,
   "metadata": {},
   "outputs": [
    {
     "name": "stdout",
     "output_type": "stream",
     "text": [
      "Enter Magda's name: Magda\n",
      "Hello, I am  Magda!\n"
     ]
    }
   ],
   "source": [
    "name = input(\"Enter Magda's name: \")\n",
    "print(\"Hello, I am \", name + \"!\")"
   ]
  },
  {
   "cell_type": "code",
   "execution_count": 2,
   "metadata": {},
   "outputs": [
    {
     "name": "stdout",
     "output_type": "stream",
     "text": [
      "Enter Magda's holidays preference: Japan\n",
      "My holiday preference is Japan!\n"
     ]
    }
   ],
   "source": [
    "holiday = input(\"Enter Magda's holidays preference: \")\n",
    "print(\"My holiday preference is\", holiday+\"!\")"
   ]
  },
  {
   "cell_type": "markdown",
   "metadata": {},
   "source": [
    "## This is how I imagine my holiday\n",
    "\n",
    "<a id =holiday> </a> "
   ]
  },
  {
   "cell_type": "code",
   "execution_count": 3,
   "metadata": {
    "scrolled": false
   },
   "outputs": [
    {
     "data": {
      "text/html": [
       "\n",
       "        <iframe\n",
       "            width=\"400\"\n",
       "            height=\"300\"\n",
       "            src=\"https://www.youtube.com/embed/https://www.youtube.com/watch?v=L4CZM2HdVJc&t=68s\"\n",
       "            frameborder=\"0\"\n",
       "            allowfullscreen\n",
       "        ></iframe>\n",
       "        "
      ],
      "text/plain": [
       "<IPython.lib.display.YouTubeVideo at 0x24705c2a340>"
      ]
     },
     "execution_count": 3,
     "metadata": {},
     "output_type": "execute_result"
    }
   ],
   "source": [
    "from IPython.display import YouTubeVideo\n",
    "YouTubeVideo('https://www.youtube.com/watch?v=L4CZM2HdVJc&t=68s')"
   ]
  },
  {
   "cell_type": "markdown",
   "metadata": {},
   "source": [
    "<i>This was me with my boyfriend in Prague :)</i>\n",
    "\n",
    "<img src=\"UsInPrague.jpg\">\n",
    "\n",
    "<a id =boyfriend></a> \n"
   ]
  },
  {
   "cell_type": "markdown",
   "metadata": {},
   "source": [
    "<span style='color:green'>\n",
    "\n",
    "## TOP 3 things in Prague\n",
    "\n",
    "- *Very romantic city*\n",
    "- **Architecture**\n",
    "- ***Vegan food***\n",
    "    \n",
    "</span>\n",
    "\n",
    "<a id =prague></a> \n"
   ]
  },
  {
   "cell_type": "markdown",
   "metadata": {},
   "source": [
    "<span style=\"background:black\">\n",
    "    <span style=\"color:green>   \n",
    "## Thanks for visiting this page!\n",
    "    </span>            \n",
    "</span>\n",
    "\n",
    "<a id =visit></a> "
   ]
  },
  {
   "cell_type": "code",
   "execution_count": null,
   "metadata": {},
   "outputs": [],
   "source": []
  }
 ],
 "metadata": {
  "kernelspec": {
   "display_name": "Python 3",
   "language": "python",
   "name": "python3"
  },
  "language_info": {
   "codemirror_mode": {
    "name": "ipython",
    "version": 3
   },
   "file_extension": ".py",
   "mimetype": "text/x-python",
   "name": "python",
   "nbconvert_exporter": "python",
   "pygments_lexer": "ipython3",
   "version": "3.9.2"
  }
 },
 "nbformat": 4,
 "nbformat_minor": 4
}
