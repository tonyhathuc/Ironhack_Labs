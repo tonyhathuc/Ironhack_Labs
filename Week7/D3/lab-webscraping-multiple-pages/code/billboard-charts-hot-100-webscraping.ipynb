{
 "cells": [
  {
   "cell_type": "code",
   "execution_count": 1,
   "id": "attractive-gabriel",
   "metadata": {},
   "outputs": [],
   "source": [
    "# 1. import libraries\n",
    "\n",
    "from bs4 import BeautifulSoup\n",
    "import requests\n",
    "import numpy as np\n",
    "import pandas as pd \n",
    "\n",
    "# 2. find the url and store it in a variable\n",
    "\n",
    "url = \"https://www.billboard.com/charts/hot-100\"\n",
    "\n",
    "# 3. download html with a get request\n",
    "\n",
    "response = requests.get(url)"
   ]
  },
  {
   "cell_type": "code",
   "execution_count": 2,
   "id": "associate-freedom",
   "metadata": {},
   "outputs": [
    {
     "data": {
      "text/plain": [
       "200"
      ]
     },
     "execution_count": 2,
     "metadata": {},
     "output_type": "execute_result"
    }
   ],
   "source": [
    "# get the status code response\n",
    "\n",
    "response.status_code"
   ]
  },
  {
   "cell_type": "code",
   "execution_count": 3,
   "id": "passive-tobago",
   "metadata": {},
   "outputs": [],
   "source": [
    "soup = BeautifulSoup(response.content, 'html.parser')"
   ]
  },
  {
   "cell_type": "code",
   "execution_count": 4,
   "id": "conservative-palestinian",
   "metadata": {},
   "outputs": [
    {
     "name": "stderr",
     "output_type": "stream",
     "text": [
      "IOPub data rate exceeded.\n",
      "The notebook server will temporarily stop sending output\n",
      "to the client in order to avoid crashing it.\n",
      "To change this limit, set the config variable\n",
      "`--NotebookApp.iopub_data_rate_limit`.\n",
      "\n",
      "Current values:\n",
      "NotebookApp.iopub_data_rate_limit=1000000.0 (bytes/sec)\n",
      "NotebookApp.rate_limit_window=3.0 (secs)\n",
      "\n"
     ]
    }
   ],
   "source": [
    "# prettify the html code within the soup variable\n",
    "\n",
    "print(soup.prettify())"
   ]
  },
  {
   "cell_type": "code",
   "execution_count": 5,
   "id": "danish-services",
   "metadata": {},
   "outputs": [
    {
     "data": {
      "text/plain": [
       "'Save Your Tears'"
      ]
     },
     "execution_count": 5,
     "metadata": {},
     "output_type": "execute_result"
    }
   ],
   "source": [
    "# this will select the name of the first song\n",
    "\n",
    "soup.select(\"span.chart-element__information__song\")[0].text"
   ]
  },
  {
   "cell_type": "code",
   "execution_count": 6,
   "id": "sixth-camera",
   "metadata": {},
   "outputs": [
    {
     "data": {
      "text/plain": [
       "'Save Your Tears'"
      ]
     },
     "execution_count": 6,
     "metadata": {},
     "output_type": "execute_result"
    }
   ],
   "source": [
    "# this will select the name of the first song as well\n",
    "\n",
    "soup.select(\"li.chart-list__element:nth-child(1) > button:nth-child(1) > span:nth-child(2) > span:nth-child(1)\")[0].text "
   ]
  },
  {
   "cell_type": "code",
   "execution_count": 7,
   "id": "digital-farmer",
   "metadata": {
    "scrolled": false
   },
   "outputs": [
    {
     "data": {
      "text/plain": [
       "[<span class=\"chart-element__information__song text--truncate color--primary\">Save Your Tears</span>,\n",
       " <span class=\"chart-element__information__song text--truncate color--primary\">Leave The Door Open</span>,\n",
       " <span class=\"chart-element__information__song text--truncate color--primary\">Peaches</span>,\n",
       " <span class=\"chart-element__information__song text--truncate color--primary\">Rapstar</span>,\n",
       " <span class=\"chart-element__information__song text--truncate color--primary\">Levitating</span>,\n",
       " <span class=\"chart-element__information__song text--truncate color--primary\">Kiss Me More</span>,\n",
       " <span class=\"chart-element__information__song text--truncate color--primary\">Montero (Call Me By Your Name)</span>,\n",
       " <span class=\"chart-element__information__song text--truncate color--primary\">Astronaut In The Ocean</span>,\n",
       " <span class=\"chart-element__information__song text--truncate color--primary\">Up</span>,\n",
       " <span class=\"chart-element__information__song text--truncate color--primary\">Drivers License</span>,\n",
       " <span class=\"chart-element__information__song text--truncate color--primary\">Blinding Lights</span>,\n",
       " <span class=\"chart-element__information__song text--truncate color--primary\">Deja Vu</span>,\n",
       " <span class=\"chart-element__information__song text--truncate color--primary\">Beat Box</span>,\n",
       " <span class=\"chart-element__information__song text--truncate color--primary\">Calling My Phone</span>,\n",
       " <span class=\"chart-element__information__song text--truncate color--primary\">On Me</span>,\n",
       " <span class=\"chart-element__information__song text--truncate color--primary\">Best Friend</span>,\n",
       " <span class=\"chart-element__information__song text--truncate color--primary\">Heartbreak Anniversary</span>,\n",
       " <span class=\"chart-element__information__song text--truncate color--primary\">Beautiful Mistakes</span>,\n",
       " <span class=\"chart-element__information__song text--truncate color--primary\">What You Know Bout Love</span>,\n",
       " <span class=\"chart-element__information__song text--truncate color--primary\">Mood</span>,\n",
       " <span class=\"chart-element__information__song text--truncate color--primary\">My Ex's Best Friend</span>,\n",
       " <span class=\"chart-element__information__song text--truncate color--primary\">Back In Blood</span>,\n",
       " <span class=\"chart-element__information__song text--truncate color--primary\">Without You</span>,\n",
       " <span class=\"chart-element__information__song text--truncate color--primary\">The Good Ones</span>,\n",
       " <span class=\"chart-element__information__song text--truncate color--primary\">Go Crazy</span>,\n",
       " <span class=\"chart-element__information__song text--truncate color--primary\">You Broke Me First.</span>,\n",
       " <span class=\"chart-element__information__song text--truncate color--primary\">34+35</span>,\n",
       " <span class=\"chart-element__information__song text--truncate color--primary\">Hell Of A View</span>,\n",
       " <span class=\"chart-element__information__song text--truncate color--primary\">Forever After All</span>,\n",
       " <span class=\"chart-element__information__song text--truncate color--primary\">What's Next</span>,\n",
       " <span class=\"chart-element__information__song text--truncate color--primary\">Time Today</span>,\n",
       " <span class=\"chart-element__information__song text--truncate color--primary\">Therefore I Am</span>,\n",
       " <span class=\"chart-element__information__song text--truncate color--primary\">Dakiti</span>,\n",
       " <span class=\"chart-element__information__song text--truncate color--primary\">Positions</span>,\n",
       " <span class=\"chart-element__information__song text--truncate color--primary\">Shottas (Lala)</span>,\n",
       " <span class=\"chart-element__information__song text--truncate color--primary\">Solid</span>,\n",
       " <span class=\"chart-element__information__song text--truncate color--primary\">Track Star</span>,\n",
       " <span class=\"chart-element__information__song text--truncate color--primary\">Ski</span>,\n",
       " <span class=\"chart-element__information__song text--truncate color--primary\">Wants And Needs</span>,\n",
       " <span class=\"chart-element__information__song text--truncate color--primary\">You're Mines Still</span>,\n",
       " <span class=\"chart-element__information__song text--truncate color--primary\">We're Good</span>,\n",
       " <span class=\"chart-element__information__song text--truncate color--primary\">Heat Waves</span>,\n",
       " <span class=\"chart-element__information__song text--truncate color--primary\">Made For You</span>,\n",
       " <span class=\"chart-element__information__song text--truncate color--primary\">Good Days</span>,\n",
       " <span class=\"chart-element__information__song text--truncate color--primary\">For The Night</span>,\n",
       " <span class=\"chart-element__information__song text--truncate color--primary\">Breaking Up Was Easy In The 90's</span>,\n",
       " <span class=\"chart-element__information__song text--truncate color--primary\">No More Parties</span>,\n",
       " <span class=\"chart-element__information__song text--truncate color--primary\">Goosebumps</span>,\n",
       " <span class=\"chart-element__information__song text--truncate color--primary\">Telepatia</span>,\n",
       " <span class=\"chart-element__information__song text--truncate color--primary\">Tombstone</span>,\n",
       " <span class=\"chart-element__information__song text--truncate color--primary\">Streets</span>,\n",
       " <span class=\"chart-element__information__song text--truncate color--primary\">Go!</span>,\n",
       " <span class=\"chart-element__information__song text--truncate color--primary\">Hard For The Next</span>,\n",
       " <span class=\"chart-element__information__song text--truncate color--primary\">If Pain Was A Person</span>,\n",
       " <span class=\"chart-element__information__song text--truncate color--primary\">What's Your Country Song</span>,\n",
       " <span class=\"chart-element__information__song text--truncate color--primary\">Just The Way</span>,\n",
       " <span class=\"chart-element__information__song text--truncate color--primary\">Hold On</span>,\n",
       " <span class=\"chart-element__information__song text--truncate color--primary\">Settling Down</span>,\n",
       " <span class=\"chart-element__information__song text--truncate color--primary\">Wockesha</span>,\n",
       " <span class=\"chart-element__information__song text--truncate color--primary\">Botella Tras Botella</span>,\n",
       " <span class=\"chart-element__information__song text--truncate color--primary\">Willow</span>,\n",
       " <span class=\"chart-element__information__song text--truncate color--primary\">Damage</span>,\n",
       " <span class=\"chart-element__information__song text--truncate color--primary\">Street Runner</span>,\n",
       " <span class=\"chart-element__information__song text--truncate color--primary\">Come Through</span>,\n",
       " <span class=\"chart-element__information__song text--truncate color--primary\">Somebody Like That</span>,\n",
       " <span class=\"chart-element__information__song text--truncate color--primary\">pov</span>,\n",
       " <span class=\"chart-element__information__song text--truncate color--primary\">Lil Bit</span>,\n",
       " <span class=\"chart-element__information__song text--truncate color--primary\">Gone</span>,\n",
       " <span class=\"chart-element__information__song text--truncate color--primary\">Nobody</span>,\n",
       " <span class=\"chart-element__information__song text--truncate color--primary\">Famous Friends</span>,\n",
       " <span class=\"chart-element__information__song text--truncate color--primary\">Quicksand</span>,\n",
       " <span class=\"chart-element__information__song text--truncate color--primary\">Lady</span>,\n",
       " <span class=\"chart-element__information__song text--truncate color--primary\">The Business</span>,\n",
       " <span class=\"chart-element__information__song text--truncate color--primary\">La Noche de Anoche</span>,\n",
       " <span class=\"chart-element__information__song text--truncate color--primary\">One Too Many</span>,\n",
       " <span class=\"chart-element__information__song text--truncate color--primary\">Richer</span>,\n",
       " <span class=\"chart-element__information__song text--truncate color--primary\">Almost Maybes</span>,\n",
       " <span class=\"chart-element__information__song text--truncate color--primary\">Follow You</span>,\n",
       " <span class=\"chart-element__information__song text--truncate color--primary\">Glad You Exist</span>,\n",
       " <span class=\"chart-element__information__song text--truncate color--primary\">Free Promo</span>,\n",
       " <span class=\"chart-element__information__song text--truncate color--primary\">Pick Up Your Feelings</span>,\n",
       " <span class=\"chart-element__information__song text--truncate color--primary\">Just Say Det</span>,\n",
       " <span class=\"chart-element__information__song text--truncate color--primary\">Big Gangsta</span>,\n",
       " <span class=\"chart-element__information__song text--truncate color--primary\">Down To One</span>,\n",
       " <span class=\"chart-element__information__song text--truncate color--primary\">Headshot</span>,\n",
       " <span class=\"chart-element__information__song text--truncate color--primary\">Hellcats &amp; Trackhawks</span>,\n",
       " <span class=\"chart-element__information__song text--truncate color--primary\">Anyone</span>,\n",
       " <span class=\"chart-element__information__song text--truncate color--primary\">My Head And My Heart</span>,\n",
       " <span class=\"chart-element__information__song text--truncate color--primary\">How They Remember You</span>,\n",
       " <span class=\"chart-element__information__song text--truncate color--primary\">Arcade</span>,\n",
       " <span class=\"chart-element__information__song text--truncate color--primary\">Drunk (And I Don't Wanna Go Home)</span>,\n",
       " <span class=\"chart-element__information__song text--truncate color--primary\">Masterpiece</span>,\n",
       " <span class=\"chart-element__information__song text--truncate color--primary\">Long Live</span>,\n",
       " <span class=\"chart-element__information__song text--truncate color--primary\">Chasing After You</span>,\n",
       " <span class=\"chart-element__information__song text--truncate color--primary\">Drankin N Smokin</span>,\n",
       " <span class=\"chart-element__information__song text--truncate color--primary\">4 Da Gang</span>,\n",
       " <span class=\"chart-element__information__song text--truncate color--primary\">Blame It On You</span>,\n",
       " <span class=\"chart-element__information__song text--truncate color--primary\">Wasted On You</span>,\n",
       " <span class=\"chart-element__information__song text--truncate color--primary\">Way Less Sad</span>,\n",
       " <span class=\"chart-element__information__song text--truncate color--primary\">Clear Da Air</span>]"
      ]
     },
     "execution_count": 7,
     "metadata": {},
     "output_type": "execute_result"
    }
   ],
   "source": [
    "# this will select the name of all songs\n",
    "\n",
    "soup.select(\"span.chart-element__information__song\")"
   ]
  },
  {
   "cell_type": "code",
   "execution_count": 8,
   "id": "average-weapon",
   "metadata": {},
   "outputs": [
    {
     "data": {
      "text/plain": [
       "'The Weeknd & Ariana Grande'"
      ]
     },
     "execution_count": 8,
     "metadata": {},
     "output_type": "execute_result"
    }
   ],
   "source": [
    "# but we want to select only the name of the artist with the No.1 Song in the chart\n",
    "\n",
    "soup.select(\"span.chart-element__information__artist\")[0].text"
   ]
  },
  {
   "cell_type": "code",
   "execution_count": 9,
   "id": "knowing-annex",
   "metadata": {},
   "outputs": [
    {
     "data": {
      "text/plain": [
       "'4'"
      ]
     },
     "execution_count": 9,
     "metadata": {},
     "output_type": "execute_result"
    }
   ],
   "source": [
    "soup.select(\"span.chart-element__rank__number\")[3].text"
   ]
  },
  {
   "cell_type": "code",
   "execution_count": 10,
   "id": "upper-component",
   "metadata": {},
   "outputs": [],
   "source": [
    "song_lst = soup.select(\"span.chart-element__information__song\")"
   ]
  },
  {
   "cell_type": "code",
   "execution_count": 11,
   "id": "therapeutic-medline",
   "metadata": {},
   "outputs": [
    {
     "data": {
      "text/plain": [
       "100"
      ]
     },
     "execution_count": 11,
     "metadata": {},
     "output_type": "execute_result"
    }
   ],
   "source": [
    "# how many songs are in a single page?\n",
    "\n",
    "len(song_lst)"
   ]
  },
  {
   "cell_type": "code",
   "execution_count": 12,
   "id": "serious-prize",
   "metadata": {},
   "outputs": [],
   "source": [
    "# create empty lists and name them title, artist and rank\n",
    "\n",
    "title = []\n",
    "artist = []\n",
    "rank = []\n",
    "\n",
    "len_songs = len(song_lst)\n",
    "\n",
    "# iterate through each index and append into the empty lists\n",
    "for i in range(len_songs):\n",
    "    title.append(soup.select(\"span.chart-element__information__song\")[i].text)\n",
    "    artist.append(soup.select(\"span.chart-element__information__artist\")[i].text)\n",
    "    rank.append(soup.select(\"span.chart-element__rank__number\")[i].text)\n"
   ]
  },
  {
   "cell_type": "code",
   "execution_count": 13,
   "id": "applied-vietnam",
   "metadata": {},
   "outputs": [],
   "source": [
    "# create a DataFrame \n",
    "# with 'title', 'artist' and 'rank' as keys\n",
    "# and use the lists we create in previous cell as values\n",
    "\n",
    "songs = pd.DataFrame({'title' : title,\n",
    "                      'artist' : artist,\n",
    "                      'rank' : rank })\n"
   ]
  },
  {
   "cell_type": "code",
   "execution_count": 14,
   "id": "comic-dayton",
   "metadata": {
    "scrolled": true
   },
   "outputs": [
    {
     "data": {
      "text/html": [
       "<div>\n",
       "<style scoped>\n",
       "    .dataframe tbody tr th:only-of-type {\n",
       "        vertical-align: middle;\n",
       "    }\n",
       "\n",
       "    .dataframe tbody tr th {\n",
       "        vertical-align: top;\n",
       "    }\n",
       "\n",
       "    .dataframe thead th {\n",
       "        text-align: right;\n",
       "    }\n",
       "</style>\n",
       "<table border=\"1\" class=\"dataframe\">\n",
       "  <thead>\n",
       "    <tr style=\"text-align: right;\">\n",
       "      <th></th>\n",
       "      <th>title</th>\n",
       "      <th>artist</th>\n",
       "      <th>rank</th>\n",
       "    </tr>\n",
       "  </thead>\n",
       "  <tbody>\n",
       "    <tr>\n",
       "      <th>0</th>\n",
       "      <td>Save Your Tears</td>\n",
       "      <td>The Weeknd &amp; Ariana Grande</td>\n",
       "      <td>1</td>\n",
       "    </tr>\n",
       "    <tr>\n",
       "      <th>1</th>\n",
       "      <td>Leave The Door Open</td>\n",
       "      <td>Silk Sonic (Bruno Mars &amp; Anderson .Paak)</td>\n",
       "      <td>2</td>\n",
       "    </tr>\n",
       "    <tr>\n",
       "      <th>2</th>\n",
       "      <td>Peaches</td>\n",
       "      <td>Justin Bieber Featuring Daniel Caesar &amp; Giveon</td>\n",
       "      <td>3</td>\n",
       "    </tr>\n",
       "    <tr>\n",
       "      <th>3</th>\n",
       "      <td>Rapstar</td>\n",
       "      <td>Polo G</td>\n",
       "      <td>4</td>\n",
       "    </tr>\n",
       "    <tr>\n",
       "      <th>4</th>\n",
       "      <td>Levitating</td>\n",
       "      <td>Dua Lipa Featuring DaBaby</td>\n",
       "      <td>5</td>\n",
       "    </tr>\n",
       "    <tr>\n",
       "      <th>...</th>\n",
       "      <td>...</td>\n",
       "      <td>...</td>\n",
       "      <td>...</td>\n",
       "    </tr>\n",
       "    <tr>\n",
       "      <th>95</th>\n",
       "      <td>4 Da Gang</td>\n",
       "      <td>42 Dugg &amp; Roddy Ricch</td>\n",
       "      <td>96</td>\n",
       "    </tr>\n",
       "    <tr>\n",
       "      <th>96</th>\n",
       "      <td>Blame It On You</td>\n",
       "      <td>Jason Aldean</td>\n",
       "      <td>97</td>\n",
       "    </tr>\n",
       "    <tr>\n",
       "      <th>97</th>\n",
       "      <td>Wasted On You</td>\n",
       "      <td>Morgan Wallen</td>\n",
       "      <td>98</td>\n",
       "    </tr>\n",
       "    <tr>\n",
       "      <th>98</th>\n",
       "      <td>Way Less Sad</td>\n",
       "      <td>AJR</td>\n",
       "      <td>99</td>\n",
       "    </tr>\n",
       "    <tr>\n",
       "      <th>99</th>\n",
       "      <td>Clear Da Air</td>\n",
       "      <td>Moneybagg Yo</td>\n",
       "      <td>100</td>\n",
       "    </tr>\n",
       "  </tbody>\n",
       "</table>\n",
       "<p>100 rows × 3 columns</p>\n",
       "</div>"
      ],
      "text/plain": [
       "                  title                                          artist rank\n",
       "0       Save Your Tears                      The Weeknd & Ariana Grande    1\n",
       "1   Leave The Door Open        Silk Sonic (Bruno Mars & Anderson .Paak)    2\n",
       "2               Peaches  Justin Bieber Featuring Daniel Caesar & Giveon    3\n",
       "3               Rapstar                                          Polo G    4\n",
       "4            Levitating                       Dua Lipa Featuring DaBaby    5\n",
       "..                  ...                                             ...  ...\n",
       "95            4 Da Gang                           42 Dugg & Roddy Ricch   96\n",
       "96      Blame It On You                                    Jason Aldean   97\n",
       "97        Wasted On You                                   Morgan Wallen   98\n",
       "98         Way Less Sad                                             AJR   99\n",
       "99         Clear Da Air                                    Moneybagg Yo  100\n",
       "\n",
       "[100 rows x 3 columns]"
      ]
     },
     "execution_count": 14,
     "metadata": {},
     "output_type": "execute_result"
    }
   ],
   "source": [
    "# inspect the newly created DataFrame a bit\n",
    "# so we can see as above\n",
    "# Rank 1 Artist is The Weeknd and Ariana Grande\n",
    "# And that the No.1 Song Title is Save Your Tears\n",
    "\n",
    "songs"
   ]
  },
  {
   "cell_type": "code",
   "execution_count": 15,
   "id": "unlike-collective",
   "metadata": {},
   "outputs": [
    {
     "data": {
      "text/plain": [
       "(100, 3)"
      ]
     },
     "execution_count": 15,
     "metadata": {},
     "output_type": "execute_result"
    }
   ],
   "source": [
    "songs.shape\n",
    "\n",
    "# 100 rows and 3 columns"
   ]
  },
  {
   "cell_type": "code",
   "execution_count": 16,
   "id": "fiscal-malawi",
   "metadata": {
    "scrolled": true
   },
   "outputs": [
    {
     "data": {
      "text/html": [
       "<div>\n",
       "<style scoped>\n",
       "    .dataframe tbody tr th:only-of-type {\n",
       "        vertical-align: middle;\n",
       "    }\n",
       "\n",
       "    .dataframe tbody tr th {\n",
       "        vertical-align: top;\n",
       "    }\n",
       "\n",
       "    .dataframe thead th {\n",
       "        text-align: right;\n",
       "    }\n",
       "</style>\n",
       "<table border=\"1\" class=\"dataframe\">\n",
       "  <thead>\n",
       "    <tr style=\"text-align: right;\">\n",
       "      <th></th>\n",
       "      <th>title</th>\n",
       "      <th>artist</th>\n",
       "      <th>rank</th>\n",
       "    </tr>\n",
       "  </thead>\n",
       "  <tbody>\n",
       "    <tr>\n",
       "      <th>count</th>\n",
       "      <td>100</td>\n",
       "      <td>100</td>\n",
       "      <td>100</td>\n",
       "    </tr>\n",
       "    <tr>\n",
       "      <th>unique</th>\n",
       "      <td>100</td>\n",
       "      <td>90</td>\n",
       "      <td>100</td>\n",
       "    </tr>\n",
       "    <tr>\n",
       "      <th>top</th>\n",
       "      <td>Heartbreak Anniversary</td>\n",
       "      <td>Moneybagg Yo</td>\n",
       "      <td>16</td>\n",
       "    </tr>\n",
       "    <tr>\n",
       "      <th>freq</th>\n",
       "      <td>1</td>\n",
       "      <td>6</td>\n",
       "      <td>1</td>\n",
       "    </tr>\n",
       "  </tbody>\n",
       "</table>\n",
       "</div>"
      ],
      "text/plain": [
       "                         title        artist rank\n",
       "count                      100           100  100\n",
       "unique                     100            90  100\n",
       "top     Heartbreak Anniversary  Moneybagg Yo   16\n",
       "freq                         1             6    1"
      ]
     },
     "execution_count": 16,
     "metadata": {},
     "output_type": "execute_result"
    }
   ],
   "source": [
    "# let's try the describe() function just to see what happens\n",
    "\n",
    "songs.describe()"
   ]
  },
  {
   "cell_type": "code",
   "execution_count": 17,
   "id": "optional-wilderness",
   "metadata": {},
   "outputs": [
    {
     "name": "stdout",
     "output_type": "stream",
     "text": [
      "<class 'pandas.core.frame.DataFrame'>\n",
      "RangeIndex: 100 entries, 0 to 99\n",
      "Data columns (total 3 columns):\n",
      " #   Column  Non-Null Count  Dtype \n",
      "---  ------  --------------  ----- \n",
      " 0   title   100 non-null    object\n",
      " 1   artist  100 non-null    object\n",
      " 2   rank    100 non-null    object\n",
      "dtypes: object(3)\n",
      "memory usage: 2.5+ KB\n"
     ]
    }
   ],
   "source": [
    "# let's try the .info() function just to see what happens\n",
    "\n",
    "songs.info()"
   ]
  },
  {
   "cell_type": "code",
   "execution_count": 18,
   "id": "regional-fifteen",
   "metadata": {},
   "outputs": [],
   "source": [
    "# now we can extract DataFrame into a .csv file\n",
    "\n",
    "songs.to_csv(\"billboard_top100.csv\")\n"
   ]
  },
  {
   "cell_type": "markdown",
   "id": "charming-notification",
   "metadata": {},
   "source": [
    "#### Web Scraping multiple pages"
   ]
  },
  {
   "cell_type": "code",
   "execution_count": 19,
   "id": "agricultural-backing",
   "metadata": {},
   "outputs": [],
   "source": [
    "data = pd.read_csv(\"billboard_top100.csv\")"
   ]
  },
  {
   "cell_type": "code",
   "execution_count": 20,
   "id": "metric-swiss",
   "metadata": {},
   "outputs": [],
   "source": [
    "# import this library for \"for loops\" bar progress \n",
    "\n",
    "from tqdm import tqdm"
   ]
  },
  {
   "cell_type": "code",
   "execution_count": 21,
   "id": "ahead-companion",
   "metadata": {
    "scrolled": true
   },
   "outputs": [
    {
     "data": {
      "text/html": [
       "<div>\n",
       "<style scoped>\n",
       "    .dataframe tbody tr th:only-of-type {\n",
       "        vertical-align: middle;\n",
       "    }\n",
       "\n",
       "    .dataframe tbody tr th {\n",
       "        vertical-align: top;\n",
       "    }\n",
       "\n",
       "    .dataframe thead th {\n",
       "        text-align: right;\n",
       "    }\n",
       "</style>\n",
       "<table border=\"1\" class=\"dataframe\">\n",
       "  <thead>\n",
       "    <tr style=\"text-align: right;\">\n",
       "      <th></th>\n",
       "      <th>Unnamed: 0</th>\n",
       "      <th>title</th>\n",
       "      <th>artist</th>\n",
       "      <th>rank</th>\n",
       "    </tr>\n",
       "  </thead>\n",
       "  <tbody>\n",
       "    <tr>\n",
       "      <th>0</th>\n",
       "      <td>0</td>\n",
       "      <td>Save Your Tears</td>\n",
       "      <td>The Weeknd &amp; Ariana Grande</td>\n",
       "      <td>1</td>\n",
       "    </tr>\n",
       "    <tr>\n",
       "      <th>1</th>\n",
       "      <td>1</td>\n",
       "      <td>Leave The Door Open</td>\n",
       "      <td>Silk Sonic (Bruno Mars &amp; Anderson .Paak)</td>\n",
       "      <td>2</td>\n",
       "    </tr>\n",
       "    <tr>\n",
       "      <th>2</th>\n",
       "      <td>2</td>\n",
       "      <td>Peaches</td>\n",
       "      <td>Justin Bieber Featuring Daniel Caesar &amp; Giveon</td>\n",
       "      <td>3</td>\n",
       "    </tr>\n",
       "    <tr>\n",
       "      <th>3</th>\n",
       "      <td>3</td>\n",
       "      <td>Rapstar</td>\n",
       "      <td>Polo G</td>\n",
       "      <td>4</td>\n",
       "    </tr>\n",
       "    <tr>\n",
       "      <th>4</th>\n",
       "      <td>4</td>\n",
       "      <td>Levitating</td>\n",
       "      <td>Dua Lipa Featuring DaBaby</td>\n",
       "      <td>5</td>\n",
       "    </tr>\n",
       "  </tbody>\n",
       "</table>\n",
       "</div>"
      ],
      "text/plain": [
       "   Unnamed: 0                title  \\\n",
       "0           0      Save Your Tears   \n",
       "1           1  Leave The Door Open   \n",
       "2           2              Peaches   \n",
       "3           3              Rapstar   \n",
       "4           4           Levitating   \n",
       "\n",
       "                                           artist  rank  \n",
       "0                      The Weeknd & Ariana Grande     1  \n",
       "1        Silk Sonic (Bruno Mars & Anderson .Paak)     2  \n",
       "2  Justin Bieber Featuring Daniel Caesar & Giveon     3  \n",
       "3                                          Polo G     4  \n",
       "4                       Dua Lipa Featuring DaBaby     5  "
      ]
     },
     "execution_count": 21,
     "metadata": {},
     "output_type": "execute_result"
    }
   ],
   "source": [
    "# check the head\n",
    "# \"Unnamed:0\" is irrelevant, we will drop it \n",
    "data.head(5)"
   ]
  },
  {
   "cell_type": "code",
   "execution_count": 22,
   "id": "cardiovascular-candidate",
   "metadata": {},
   "outputs": [],
   "source": [
    "# create a copy and store under df\n",
    "\n",
    "df = data"
   ]
  },
  {
   "cell_type": "code",
   "execution_count": 23,
   "id": "corrected-restriction",
   "metadata": {},
   "outputs": [],
   "source": [
    "# drop \"Unnamed\" column as we already have an index\n",
    "\n",
    "df.drop([\"Unnamed: 0\"], axis = 1, inplace = True)\n"
   ]
  },
  {
   "cell_type": "code",
   "execution_count": 24,
   "id": "pleasant-accident",
   "metadata": {
    "scrolled": false
   },
   "outputs": [
    {
     "data": {
      "text/html": [
       "<div>\n",
       "<style scoped>\n",
       "    .dataframe tbody tr th:only-of-type {\n",
       "        vertical-align: middle;\n",
       "    }\n",
       "\n",
       "    .dataframe tbody tr th {\n",
       "        vertical-align: top;\n",
       "    }\n",
       "\n",
       "    .dataframe thead th {\n",
       "        text-align: right;\n",
       "    }\n",
       "</style>\n",
       "<table border=\"1\" class=\"dataframe\">\n",
       "  <thead>\n",
       "    <tr style=\"text-align: right;\">\n",
       "      <th></th>\n",
       "      <th>title</th>\n",
       "      <th>artist</th>\n",
       "      <th>rank</th>\n",
       "    </tr>\n",
       "  </thead>\n",
       "  <tbody>\n",
       "    <tr>\n",
       "      <th>0</th>\n",
       "      <td>Save Your Tears</td>\n",
       "      <td>The Weeknd &amp; Ariana Grande</td>\n",
       "      <td>1</td>\n",
       "    </tr>\n",
       "    <tr>\n",
       "      <th>1</th>\n",
       "      <td>Leave The Door Open</td>\n",
       "      <td>Silk Sonic (Bruno Mars &amp; Anderson .Paak)</td>\n",
       "      <td>2</td>\n",
       "    </tr>\n",
       "    <tr>\n",
       "      <th>2</th>\n",
       "      <td>Peaches</td>\n",
       "      <td>Justin Bieber Featuring Daniel Caesar &amp; Giveon</td>\n",
       "      <td>3</td>\n",
       "    </tr>\n",
       "    <tr>\n",
       "      <th>3</th>\n",
       "      <td>Rapstar</td>\n",
       "      <td>Polo G</td>\n",
       "      <td>4</td>\n",
       "    </tr>\n",
       "    <tr>\n",
       "      <th>4</th>\n",
       "      <td>Levitating</td>\n",
       "      <td>Dua Lipa Featuring DaBaby</td>\n",
       "      <td>5</td>\n",
       "    </tr>\n",
       "  </tbody>\n",
       "</table>\n",
       "</div>"
      ],
      "text/plain": [
       "                 title                                          artist  rank\n",
       "0      Save Your Tears                      The Weeknd & Ariana Grande     1\n",
       "1  Leave The Door Open        Silk Sonic (Bruno Mars & Anderson .Paak)     2\n",
       "2              Peaches  Justin Bieber Featuring Daniel Caesar & Giveon     3\n",
       "3              Rapstar                                          Polo G     4\n",
       "4           Levitating                       Dua Lipa Featuring DaBaby     5"
      ]
     },
     "execution_count": 24,
     "metadata": {},
     "output_type": "execute_result"
    }
   ],
   "source": [
    "# check the df\n",
    "\n",
    "df.head(5)"
   ]
  },
  {
   "cell_type": "code",
   "execution_count": 25,
   "id": "surface-employee",
   "metadata": {},
   "outputs": [],
   "source": [
    "# turn the song names into lowercase\n",
    "# in case people type with lowercase to avoid input errors later\n",
    "\n",
    "\n",
    "df[\"title\"] = df[\"title\"].str.lower()"
   ]
  },
  {
   "cell_type": "code",
   "execution_count": 26,
   "id": "unauthorized-israel",
   "metadata": {
    "scrolled": true
   },
   "outputs": [
    {
     "data": {
      "text/plain": [
       "['save your tears',\n",
       " 'leave the door open',\n",
       " 'peaches',\n",
       " 'rapstar',\n",
       " 'levitating',\n",
       " 'kiss me more',\n",
       " 'montero (call me by your name)',\n",
       " 'astronaut in the ocean',\n",
       " 'up',\n",
       " 'drivers license',\n",
       " 'blinding lights',\n",
       " 'deja vu',\n",
       " 'beat box',\n",
       " 'calling my phone',\n",
       " 'on me',\n",
       " 'best friend',\n",
       " 'heartbreak anniversary',\n",
       " 'beautiful mistakes',\n",
       " 'what you know bout love',\n",
       " 'mood',\n",
       " \"my ex's best friend\",\n",
       " 'back in blood',\n",
       " 'without you',\n",
       " 'the good ones',\n",
       " 'go crazy',\n",
       " 'you broke me first.',\n",
       " '34+35',\n",
       " 'hell of a view',\n",
       " 'forever after all',\n",
       " \"what's next\",\n",
       " 'time today',\n",
       " 'therefore i am',\n",
       " 'dakiti',\n",
       " 'positions',\n",
       " 'shottas (lala)',\n",
       " 'solid',\n",
       " 'track star',\n",
       " 'ski',\n",
       " 'wants and needs',\n",
       " \"you're mines still\",\n",
       " \"we're good\",\n",
       " 'heat waves',\n",
       " 'made for you',\n",
       " 'good days',\n",
       " 'for the night',\n",
       " \"breaking up was easy in the 90's\",\n",
       " 'no more parties',\n",
       " 'goosebumps',\n",
       " 'telepatia',\n",
       " 'tombstone',\n",
       " 'streets',\n",
       " 'go!',\n",
       " 'hard for the next',\n",
       " 'if pain was a person',\n",
       " \"what's your country song\",\n",
       " 'just the way',\n",
       " 'hold on',\n",
       " 'settling down',\n",
       " 'wockesha',\n",
       " 'botella tras botella',\n",
       " 'willow',\n",
       " 'damage',\n",
       " 'street runner',\n",
       " 'come through',\n",
       " 'somebody like that',\n",
       " 'pov',\n",
       " 'lil bit',\n",
       " 'gone',\n",
       " 'nobody',\n",
       " 'famous friends',\n",
       " 'quicksand',\n",
       " 'lady',\n",
       " 'the business',\n",
       " 'la noche de anoche',\n",
       " 'one too many',\n",
       " 'richer',\n",
       " 'almost maybes',\n",
       " 'follow you',\n",
       " 'glad you exist',\n",
       " 'free promo',\n",
       " 'pick up your feelings',\n",
       " 'just say det',\n",
       " 'big gangsta',\n",
       " 'down to one',\n",
       " 'headshot',\n",
       " 'hellcats & trackhawks',\n",
       " 'anyone',\n",
       " 'my head and my heart',\n",
       " 'how they remember you',\n",
       " 'arcade',\n",
       " \"drunk (and i don't wanna go home)\",\n",
       " 'masterpiece',\n",
       " 'long live',\n",
       " 'chasing after you',\n",
       " 'drankin n smokin',\n",
       " '4 da gang',\n",
       " 'blame it on you',\n",
       " 'wasted on you',\n",
       " 'way less sad',\n",
       " 'clear da air']"
      ]
     },
     "execution_count": 26,
     "metadata": {},
     "output_type": "execute_result"
    }
   ],
   "source": [
    "# get the unique song names and convert the Series into a list\n",
    "# store them under hot100_lst variable\n",
    "\n",
    "hot100_lst = list(df['title'].unique())\n",
    "hot100_lst\n"
   ]
  },
  {
   "cell_type": "code",
   "execution_count": 27,
   "id": "hindu-means",
   "metadata": {},
   "outputs": [],
   "source": [
    "# import random built-in library from python\n",
    "\n",
    "import random"
   ]
  },
  {
   "cell_type": "code",
   "execution_count": 28,
   "id": "separate-capacity",
   "metadata": {
    "scrolled": true
   },
   "outputs": [
    {
     "name": "stdout",
     "output_type": "stream",
     "text": [
      "Put a name of song: Rapstar\n"
     ]
    }
   ],
   "source": [
    "# create an input\n",
    "\n",
    "\n",
    "song = input(\"Put a name of song: \") "
   ]
  },
  {
   "cell_type": "code",
   "execution_count": 29,
   "id": "smooth-leader",
   "metadata": {
    "scrolled": false
   },
   "outputs": [
    {
     "name": "stdout",
     "output_type": "stream",
     "text": [
      "recommend this:  drivers license\n",
      "recommend this:  famous friends\n",
      "recommend this:  heat waves\n",
      "recommend this:  beautiful mistakes\n",
      "recommend this:  my head and my heart\n",
      "recommend this:  for the night\n",
      "recommend this:  good days\n",
      "recommend this:  no more parties\n",
      "recommend this:  34+35\n",
      "recommend this:  ski\n",
      "recommend this:  just say det\n",
      "recommend this:  street runner\n",
      "recommend this:  what you know bout love\n",
      "recommend this:  drunk (and i don't wanna go home)\n",
      "recommend this:  made for you\n",
      "recommend this:  hell of a view\n",
      "recommend this:  blame it on you\n",
      "recommend this:  blame it on you\n",
      "recommend this:  heartbreak anniversary\n",
      "recommend this:  calling my phone\n",
      "recommend this:  rapstar\n",
      "recommend this:  track star\n",
      "recommend this:  beautiful mistakes\n",
      "recommend this:  you broke me first.\n",
      "recommend this:  goosebumps\n",
      "recommend this:  made for you\n",
      "recommend this:  hard for the next\n",
      "recommend this:  positions\n",
      "recommend this:  goosebumps\n",
      "recommend this:  breaking up was easy in the 90's\n",
      "recommend this:  telepatia\n",
      "recommend this:  what you know bout love\n",
      "recommend this:  save your tears\n",
      "recommend this:  if pain was a person\n",
      "recommend this:  botella tras botella\n",
      "recommend this:  famous friends\n",
      "recommend this:  goosebumps\n",
      "recommend this:  blame it on you\n",
      "recommend this:  blame it on you\n",
      "recommend this:  follow you\n",
      "recommend this:  glad you exist\n",
      "recommend this:  on me\n",
      "recommend this:  we're good\n",
      "recommend this:  hellcats & trackhawks\n",
      "recommend this:  calling my phone\n",
      "recommend this:  solid\n",
      "recommend this:  without you\n",
      "recommend this:  quicksand\n",
      "recommend this:  if pain was a person\n",
      "recommend this:  on me\n",
      "recommend this:  chasing after you\n",
      "recommend this:  blinding lights\n",
      "recommend this:  willow\n",
      "recommend this:  up\n",
      "recommend this:  4 da gang\n",
      "recommend this:  quicksand\n",
      "recommend this:  leave the door open\n",
      "recommend this:  what's your country song\n",
      "recommend this:  no more parties\n",
      "recommend this:  follow you\n",
      "recommend this:  leave the door open\n",
      "recommend this:  go!\n",
      "recommend this:  heartbreak anniversary\n",
      "recommend this:  drankin n smokin\n",
      "recommend this:  settling down\n",
      "recommend this:  lil bit\n",
      "recommend this:  heat waves\n",
      "recommend this:  levitating\n",
      "recommend this:  drivers license\n",
      "recommend this:  chasing after you\n",
      "recommend this:  botella tras botella\n",
      "recommend this:  what's your country song\n",
      "recommend this:  ski\n",
      "recommend this:  richer\n",
      "recommend this:  just say det\n",
      "recommend this:  go crazy\n",
      "recommend this:  up\n",
      "recommend this:  leave the door open\n",
      "recommend this:  heat waves\n",
      "recommend this:  drunk (and i don't wanna go home)\n",
      "recommend this:  drivers license\n",
      "recommend this:  damage\n",
      "recommend this:  long live\n",
      "recommend this:  lady\n",
      "recommend this:  forever after all\n",
      "recommend this:  heartbreak anniversary\n",
      "recommend this:  willow\n",
      "recommend this:  long live\n",
      "recommend this:  clear da air\n",
      "recommend this:  astronaut in the ocean\n",
      "recommend this:  calling my phone\n",
      "recommend this:  solid\n",
      "recommend this:  wasted on you\n",
      "recommend this:  chasing after you\n",
      "recommend this:  drankin n smokin\n",
      "recommend this:  no more parties\n",
      "recommend this:  34+35\n",
      "recommend this:  beat box\n",
      "recommend this:  glad you exist\n",
      "recommend this:  positions\n"
     ]
    }
   ],
   "source": [
    "# build a for loop that recommends a song that is from hot100_lst\n",
    "# \n",
    "\n",
    "for song in hot100_lst:\n",
    "    if song in hot100_lst:\n",
    "        #recommend another randomg song from hot100_lst\n",
    "        print(\"recommend this: \", random.choice(hot100_lst))\n",
    "    else:\n",
    "        print(\"Song is not in the hotlist\")"
   ]
  },
  {
   "cell_type": "code",
   "execution_count": 30,
   "id": "oriental-cattle",
   "metadata": {},
   "outputs": [],
   "source": [
    "# define a function for the recommendations of top100\n",
    "\n",
    "def recommendations(input):\n",
    "    if song.lower() in hot100_lst:\n",
    "        print(\"recommend: \", random.choice(hot100_lst))\n",
    "    else:\n",
    "        print(\"Song not in a hotlist\")"
   ]
  },
  {
   "cell_type": "code",
   "execution_count": 31,
   "id": "spiritual-friend",
   "metadata": {},
   "outputs": [],
   "source": [
    "# import difflib\n",
    "\n",
    "import difflib"
   ]
  },
  {
   "cell_type": "code",
   "execution_count": 33,
   "id": "expressed-australian",
   "metadata": {
    "scrolled": false
   },
   "outputs": [
    {
     "name": "stdout",
     "output_type": "stream",
     "text": [
      "Name a song: rapstar\n"
     ]
    }
   ],
   "source": [
    "# test1\n",
    "# create the same input again\n",
    "\n",
    "song = input(\"Name a song: \")"
   ]
  },
  {
   "cell_type": "code",
   "execution_count": 34,
   "id": "republican-brisbane",
   "metadata": {},
   "outputs": [
    {
     "name": "stdout",
     "output_type": "stream",
     "text": [
      "recommend:  blinding lights\n"
     ]
    }
   ],
   "source": [
    "invalid_inputs = [' ', '']\n",
    "\n",
    "if song in hot100_lst:\n",
    "    recommendations(song)\n",
    "elif song in invalid_inputs:\n",
    "    print('This is not a valid input. Please enter a song title.')\n",
    "else:\n",
    "    if difflib.get_close_matches(song, hot100_lst) == []:\n",
    "        print(\"Song not in a hotlist\")\n",
    "    else:\n",
    "        print('Ups, smth went wrong, did you mean:', difflib.get_close_matches(song, hot100_lst))\n"
   ]
  },
  {
   "cell_type": "code",
   "execution_count": 35,
   "id": "framed-pakistan",
   "metadata": {},
   "outputs": [
    {
     "name": "stdout",
     "output_type": "stream",
     "text": [
      "recommend:  hard for the next\n"
     ]
    }
   ],
   "source": [
    "recommendations(song)"
   ]
  },
  {
   "cell_type": "code",
   "execution_count": 36,
   "id": "incredible-formula",
   "metadata": {},
   "outputs": [],
   "source": [
    "#if song in hot100_lst:\n",
    "    #recommendation = random.choice(hot100_lst)\n",
    "    #if recommendation != song: # make sure we do not recommend the same song twice\n",
    "        #print(\"recommended: \", recommendation)\n",
    "    #else: \n",
    "        #print(\"recommend: \", randomndom.choice(host100_lst))\n",
    "#else:\n",
    "    #print(\"Song not in the hotlist\")"
   ]
  },
  {
   "cell_type": "code",
   "execution_count": null,
   "id": "saving-buyer",
   "metadata": {},
   "outputs": [],
   "source": []
  }
 ],
 "metadata": {
  "kernelspec": {
   "display_name": "Python 3",
   "language": "python",
   "name": "python3"
  },
  "language_info": {
   "codemirror_mode": {
    "name": "ipython",
    "version": 3
   },
   "file_extension": ".py",
   "mimetype": "text/x-python",
   "name": "python",
   "nbconvert_exporter": "python",
   "pygments_lexer": "ipython3",
   "version": "3.9.2"
  },
  "toc": {
   "base_numbering": 1,
   "nav_menu": {},
   "number_sections": true,
   "sideBar": true,
   "skip_h1_title": false,
   "title_cell": "Table of Contents",
   "title_sidebar": "Contents",
   "toc_cell": false,
   "toc_position": {},
   "toc_section_display": true,
   "toc_window_display": false
  },
  "varInspector": {
   "cols": {
    "lenName": 16,
    "lenType": 16,
    "lenVar": 40
   },
   "kernels_config": {
    "python": {
     "delete_cmd_postfix": "",
     "delete_cmd_prefix": "del ",
     "library": "var_list.py",
     "varRefreshCmd": "print(var_dic_list())"
    },
    "r": {
     "delete_cmd_postfix": ") ",
     "delete_cmd_prefix": "rm(",
     "library": "var_list.r",
     "varRefreshCmd": "cat(var_dic_list()) "
    }
   },
   "types_to_exclude": [
    "module",
    "function",
    "builtin_function_or_method",
    "instance",
    "_Feature"
   ],
   "window_display": false
  }
 },
 "nbformat": 4,
 "nbformat_minor": 5
}
